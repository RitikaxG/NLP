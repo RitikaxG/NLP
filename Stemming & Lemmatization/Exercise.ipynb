{
 "cells": [
  {
   "cell_type": "code",
   "execution_count": 4,
   "id": "4bc41b64",
   "metadata": {},
   "outputs": [],
   "source": [
    "#let import necessary libraries and create the object\n",
    "\n",
    "#for nltk\n",
    "import nltk\n",
    "from nltk.stem import PorterStemmer\n",
    "stemmer = PorterStemmer()\n",
    "\n",
    "#downloading all neccessary packages related to nltk\n",
    "#nltk.download('all')\n",
    "\n",
    "\n",
    "#for spacy\n",
    "import spacy\n",
    "nlp = spacy.load(\"en_core_web_sm\")"
   ]
  },
  {
   "cell_type": "markdown",
   "id": "bcd7572d",
   "metadata": {},
   "source": [
    "Exercise1:\n",
    "\n",
    "Convert these list of words into base form using Stemming and Lemmatization and observe the transformations\n",
    "Write a short note on the words that have different base words using stemming and Lemmatization"
   ]
  },
  {
   "cell_type": "code",
   "execution_count": 5,
   "id": "091b4802",
   "metadata": {},
   "outputs": [
    {
     "name": "stdout",
     "output_type": "stream",
     "text": [
      "running  |  run\n",
      "painting  |  paint\n",
      "walking  |  walk\n",
      "dressing  |  dress\n",
      "likely  |  like\n",
      "children  |  children\n",
      "whom  |  whom\n",
      "good  |  good\n",
      "ate  |  ate\n",
      "fishing  |  fish\n"
     ]
    }
   ],
   "source": [
    "#using stemming in nltk\n",
    "lst_words = ['running', 'painting', 'walking', 'dressing', 'likely', 'children', 'whom', 'good', 'ate', 'fishing']\n",
    "for word in lst_words:\n",
    "    print(word,\" | \",stemmer.stem(word))"
   ]
  },
  {
   "cell_type": "code",
   "execution_count": 6,
   "id": "ae9b8490",
   "metadata": {},
   "outputs": [
    {
     "name": "stdout",
     "output_type": "stream",
     "text": [
      "running  |  run\n",
      "painting  |  paint\n",
      "walking  |  walk\n",
      "dressing  |  dress\n",
      "likely  |  likely\n",
      "children  |  child\n",
      "who  |  who\n",
      "good  |  good\n",
      "ate  |  eat\n",
      "fishing  |  fishing\n"
     ]
    }
   ],
   "source": [
    "#using lemmatization in spacy\n",
    "\n",
    "doc = nlp(\"running painting walking dressing likely children who good ate fishing\")\n",
    "for token in doc:\n",
    "    print(token,\" | \",token.lemma_)"
   ]
  },
  {
   "cell_type": "markdown",
   "id": "30934d00",
   "metadata": {},
   "source": [
    "\n",
    "Exercise2:\n",
    "\n",
    "convert the given text into it's base form using both stemming and lemmatization"
   ]
  },
  {
   "cell_type": "code",
   "execution_count": 7,
   "id": "59f81b27",
   "metadata": {},
   "outputs": [],
   "source": [
    "text = \"\"\"Latha is very multi talented girl.She is good at many skills like dancing, running, singing, playing.She also likes eating Pav Bhagi. she has a \n",
    "habit of fishing and swimming too.Besides all this, she is a wonderful at cooking too.\n",
    "\"\"\""
   ]
  },
  {
   "cell_type": "code",
   "execution_count": 20,
   "id": "d01d44d3",
   "metadata": {},
   "outputs": [
    {
     "name": "stdout",
     "output_type": "stream",
     "text": [
      "Base word before stemming:\n",
      "\n",
      "['Latha', 'is', 'very', 'multi', 'talented', 'girl', '.', 'She', 'is', 'good', 'at', 'many', 'skills', 'like', 'dancing', ',', 'running', ',', 'singing', ',', 'playing', '.', 'She', 'also', 'likes', 'eating', 'Pav', 'Bhagi', '.', 'she', 'has', 'a', '\\n', 'habit', 'of', 'fishing', 'and', 'swimming', 'too', '.', 'Besides', 'all', 'this', ',', 'she', 'is', 'a', 'wonderful', 'at', 'cooking', 'too', '.', '\\n']\n",
      "\n",
      "\n",
      "Words after stemming:\n",
      "\n",
      "['latha', 'is', 'veri', 'multi', 'talent', 'girl', '.', 'she', 'is', 'good', 'at', 'mani', 'skill', 'like', 'danc', ',', 'run', ',', 'sing', ',', 'play', '.', 'she', 'also', 'like', 'eat', 'pav', 'bhagi', '.', 'she', 'ha', 'a', '\\n', 'habit', 'of', 'fish', 'and', 'swim', 'too', '.', 'besid', 'all', 'thi', ',', 'she', 'is', 'a', 'wonder', 'at', 'cook', 'too', '.', '\\n']\n"
     ]
    }
   ],
   "source": [
    "#using stemming in nltk\n",
    "#step1: Word tokenizing\n",
    "nlp = spacy.blank(\"en\")\n",
    "doc = nlp(text)\n",
    "#step2: getting the base form for each token using stemmer\n",
    "print(\"Base word before stemming:\\n\")\n",
    "words =[]\n",
    "for token in doc:\n",
    "    words.append(token.text)\n",
    "print(words)\n",
    "print(\"\\n\")\n",
    "print(\"Words after stemming:\\n\")\n",
    "word_after_stemming = []\n",
    "for word in words:\n",
    "    word_after_stemming.append(stemmer.stem(word))\n",
    "print(word_after_stemming)\n",
    "#step3: joining all words in a list into string using 'join()'"
   ]
  },
  {
   "cell_type": "code",
   "execution_count": 21,
   "id": "a656a2a3",
   "metadata": {},
   "outputs": [
    {
     "name": "stdout",
     "output_type": "stream",
     "text": [
      "Words after lemmatization:\n",
      "['Latha', 'be', 'very', 'multi', 'talented', 'girl', '.', 'she', 'be', 'good', 'at', 'many', 'skill', 'like', 'dancing', ',', 'running', ',', 'singing', ',', 'play', '.', 'she', 'also', 'like', 'eat', 'Pav', 'Bhagi', '.', 'she', 'have', 'a', '\\n', 'habit', 'of', 'fishing', 'and', 'swim', 'too', '.', 'besides', 'all', 'this', ',', 'she', 'be', 'a', 'wonderful', 'at', 'cook', 'too', '.', '\\n']\n"
     ]
    }
   ],
   "source": [
    "#using lemmatisation in spacy\n",
    "\n",
    "\n",
    "#step1: Creating the object for the given text\n",
    "nlp = spacy.load(\"en_core_web_sm\")\n",
    "doc = nlp(text)\n",
    "#step2: getting the base form for each token using spacy 'lemma_'\n",
    "print(\"Words after lemmatization:\")\n",
    "words = []\n",
    "for token in doc:\n",
    "    words.append(token.lemma_)\n",
    "print(words)\n",
    "#step3: joining all words in a list into string using 'join()'"
   ]
  },
  {
   "cell_type": "code",
   "execution_count": null,
   "id": "386a1830",
   "metadata": {},
   "outputs": [],
   "source": []
  }
 ],
 "metadata": {
  "kernelspec": {
   "display_name": "Python 3 (ipykernel)",
   "language": "python",
   "name": "python3"
  },
  "language_info": {
   "codemirror_mode": {
    "name": "ipython",
    "version": 3
   },
   "file_extension": ".py",
   "mimetype": "text/x-python",
   "name": "python",
   "nbconvert_exporter": "python",
   "pygments_lexer": "ipython3",
   "version": "3.11.4"
  }
 },
 "nbformat": 4,
 "nbformat_minor": 5
}
