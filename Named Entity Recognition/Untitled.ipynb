{
 "cells": [
  {
   "cell_type": "markdown",
   "id": "e73bddc7",
   "metadata": {},
   "source": [
    "Named Entity Recognition (NER): Exercises"
   ]
  },
  {
   "cell_type": "code",
   "execution_count": 2,
   "id": "c25160e4",
   "metadata": {},
   "outputs": [],
   "source": [
    "import spacy\n",
    "nlp = spacy.load(\"en_core_web_sm\")"
   ]
  },
  {
   "cell_type": "markdown",
   "id": "3552c9f6",
   "metadata": {},
   "source": [
    "###### Exercise: 1\n",
    "Extract all the Geographical (cities, Countries, states) names from a given text"
   ]
  },
  {
   "cell_type": "code",
   "execution_count": 3,
   "id": "d485e64d",
   "metadata": {},
   "outputs": [],
   "source": [
    "text = \"\"\"Kiran want to know the famous foods in each state of India. So, he opened Google and search for this question. Google showed that\n",
    "in Delhi it is Chaat, in Gujarat it is Dal Dhokli, in Tamilnadu it is Pongal, in Andhrapradesh it is Biryani, in Assam it is Papaya Khar,\n",
    "in Bihar it is Litti Chowkha and so on for all other states\"\"\"\n",
    "\n",
    "doc = nlp(text)"
   ]
  },
  {
   "cell_type": "code",
   "execution_count": 9,
   "id": "e9356f0f",
   "metadata": {},
   "outputs": [
    {
     "name": "stdout",
     "output_type": "stream",
     "text": [
      "India\n",
      "Delhi\n",
      "Gujarat\n",
      "Tamilnadu\n",
      "Pongal\n",
      "Andhrapradesh\n",
      "Assam\n",
      "Bihar\n"
     ]
    }
   ],
   "source": [
    "for ent in doc.ents:\n",
    "    if (ent.label_ == 'GPE'):\n",
    "        print(ent.text)"
   ]
  },
  {
   "cell_type": "markdown",
   "id": "766fe971",
   "metadata": {},
   "source": [
    "###### Exercise: 2\n",
    "Extract all the birth dates of cricketers in the given Text"
   ]
  },
  {
   "cell_type": "code",
   "execution_count": 10,
   "id": "c15087da",
   "metadata": {},
   "outputs": [],
   "source": [
    "text = \"\"\"Sachin Tendulkar was born on 24 April 1973, Virat Kholi was born on 5 November 1988, Dhoni was born on 7 July 1981\n",
    "and finally Ricky ponting was born on 19 December 1974.\"\"\"\n",
    "\n",
    "doc = nlp(text)"
   ]
  },
  {
   "cell_type": "code",
   "execution_count": 13,
   "id": "a93726dc",
   "metadata": {},
   "outputs": [
    {
     "name": "stdout",
     "output_type": "stream",
     "text": [
      "['19 December 1974']\n"
     ]
    }
   ],
   "source": [
    "for ent in doc.ents:\n",
    "    dates = []\n",
    "    if(ent.label_ == 'DATE'):\n",
    "        dates.append(ent.text)\n",
    "print(dates)"
   ]
  },
  {
   "cell_type": "code",
   "execution_count": null,
   "id": "893b243a",
   "metadata": {},
   "outputs": [],
   "source": []
  }
 ],
 "metadata": {
  "kernelspec": {
   "display_name": "Python 3 (ipykernel)",
   "language": "python",
   "name": "python3"
  },
  "language_info": {
   "codemirror_mode": {
    "name": "ipython",
    "version": 3
   },
   "file_extension": ".py",
   "mimetype": "text/x-python",
   "name": "python",
   "nbconvert_exporter": "python",
   "pygments_lexer": "ipython3",
   "version": "3.11.4"
  }
 },
 "nbformat": 4,
 "nbformat_minor": 5
}
