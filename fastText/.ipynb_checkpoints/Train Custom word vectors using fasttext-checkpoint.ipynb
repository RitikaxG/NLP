{
 "cells": [
  {
   "cell_type": "markdown",
   "id": "5bea53d1",
   "metadata": {},
   "source": [
    "##### fastText\n",
    "* fastText can handle OOV better than word2vec\n",
    "* fastText is often a first choice when you want to train custom word embeddings for your domain.\n",
    "* fastText is a technique (similar to word2vec) as well as a library."
   ]
  },
  {
   "cell_type": "code",
   "execution_count": 2,
   "id": "9ca66bf1",
   "metadata": {},
   "outputs": [],
   "source": [
    "import fasttext"
   ]
  },
  {
   "cell_type": "code",
   "execution_count": null,
   "id": "177601b7",
   "metadata": {},
   "outputs": [],
   "source": [
    "model_en = fasttext.load_model()"
   ]
  },
  {
   "cell_type": "code",
   "execution_count": 3,
   "id": "21b4fd70",
   "metadata": {},
   "outputs": [
    {
     "ename": "NameError",
     "evalue": "name 'model_en' is not defined",
     "output_type": "error",
     "traceback": [
      "\u001b[0;31m---------------------------------------------------------------------------\u001b[0m",
      "\u001b[0;31mNameError\u001b[0m                                 Traceback (most recent call last)",
      "Cell \u001b[0;32mIn[3], line 1\u001b[0m\n\u001b[0;32m----> 1\u001b[0m model_en\u001b[38;5;241m.\u001b[39mget_nearest_neighbors(\u001b[38;5;124m\"\u001b[39m\u001b[38;5;124mgood\u001b[39m\u001b[38;5;124m\"\u001b[39m)\n",
      "\u001b[0;31mNameError\u001b[0m: name 'model_en' is not defined"
     ]
    }
   ],
   "source": [
    "model_en.get_nearest_neighbors(\"good\")"
   ]
  },
  {
   "cell_type": "code",
   "execution_count": 4,
   "id": "e8e210af",
   "metadata": {},
   "outputs": [
    {
     "ename": "NameError",
     "evalue": "name 'model_en' is not defined",
     "output_type": "error",
     "traceback": [
      "\u001b[0;31m---------------------------------------------------------------------------\u001b[0m",
      "\u001b[0;31mNameError\u001b[0m                                 Traceback (most recent call last)",
      "Cell \u001b[0;32mIn[4], line 1\u001b[0m\n\u001b[0;32m----> 1\u001b[0m model_en\u001b[38;5;241m.\u001b[39mget_word_vector(\u001b[38;5;124m\"\u001b[39m\u001b[38;5;124mgood\u001b[39m\u001b[38;5;124m\"\u001b[39m)\n",
      "\u001b[0;31mNameError\u001b[0m: name 'model_en' is not defined"
     ]
    }
   ],
   "source": [
    "model_en.get_word_vector(\"good\").shape"
   ]
  },
  {
   "cell_type": "code",
   "execution_count": null,
   "id": "ce526447",
   "metadata": {},
   "outputs": [],
   "source": [
    "model_en.get_analogies(\"berlin\",\"germany\",\"india\")"
   ]
  },
  {
   "cell_type": "code",
   "execution_count": null,
   "id": "71a0f157",
   "metadata": {},
   "outputs": [],
   "source": [
    "model_en.get_analogies(\"driving\",\"car\",\"phone\")"
   ]
  },
  {
   "cell_type": "code",
   "execution_count": null,
   "id": "6e8d48d5",
   "metadata": {},
   "outputs": [],
   "source": [
    "model_en.get_nearest_neighbors(\"chutney\")"
   ]
  },
  {
   "cell_type": "code",
   "execution_count": 5,
   "id": "407525ba",
   "metadata": {},
   "outputs": [
    {
     "ename": "NameError",
     "evalue": "name 'model_en' is not defined",
     "output_type": "error",
     "traceback": [
      "\u001b[0;31m---------------------------------------------------------------------------\u001b[0m",
      "\u001b[0;31mNameError\u001b[0m                                 Traceback (most recent call last)",
      "Cell \u001b[0;32mIn[5], line 1\u001b[0m\n\u001b[0;32m----> 1\u001b[0m model_en\u001b[38;5;241m.\u001b[39mget_nearest_neighbors(\u001b[38;5;124m\"\u001b[39m\u001b[38;5;124mhalwa\u001b[39m\u001b[38;5;124m\"\u001b[39m)\n",
      "\u001b[0;31mNameError\u001b[0m: name 'model_en' is not defined"
     ]
    }
   ],
   "source": [
    "model_en.get_nearest_neighbors(\"halwa\")"
   ]
  },
  {
   "cell_type": "code",
   "execution_count": null,
   "id": "58abc3b0",
   "metadata": {},
   "outputs": [],
   "source": [
    "model_en.get_nearest_neighbors(\"saragva\",k=3)"
   ]
  },
  {
   "cell_type": "code",
   "execution_count": null,
   "id": "02fbec89",
   "metadata": {},
   "outputs": [],
   "source": [
    "model_hi = fasttext.load_model()"
   ]
  },
  {
   "cell_type": "code",
   "execution_count": null,
   "id": "a8cc0c8a",
   "metadata": {},
   "outputs": [],
   "source": [
    "model_hi.get_nearest_neighbors(\"अच्छा\")"
   ]
  },
  {
   "cell_type": "code",
   "execution_count": null,
   "id": "0b429ae0",
   "metadata": {},
   "outputs": [],
   "source": [
    "model_hi.get_nearest_neighbors(\"अदिति\")"
   ]
  },
  {
   "cell_type": "code",
   "execution_count": 1,
   "id": "d9765cd9",
   "metadata": {},
   "outputs": [],
   "source": [
    "import pandas as pd"
   ]
  },
  {
   "cell_type": "code",
   "execution_count": 3,
   "id": "66c3ad21",
   "metadata": {},
   "outputs": [
    {
     "name": "stdout",
     "output_type": "stream",
     "text": [
      "(5938, 9)\n"
     ]
    },
    {
     "data": {
      "text/html": [
       "<div>\n",
       "<style scoped>\n",
       "    .dataframe tbody tr th:only-of-type {\n",
       "        vertical-align: middle;\n",
       "    }\n",
       "\n",
       "    .dataframe tbody tr th {\n",
       "        vertical-align: top;\n",
       "    }\n",
       "\n",
       "    .dataframe thead th {\n",
       "        text-align: right;\n",
       "    }\n",
       "</style>\n",
       "<table border=\"1\" class=\"dataframe\">\n",
       "  <thead>\n",
       "    <tr style=\"text-align: right;\">\n",
       "      <th></th>\n",
       "      <th>TranslatedRecipeName</th>\n",
       "      <th>TranslatedIngredients</th>\n",
       "      <th>TotalTimeInMins</th>\n",
       "      <th>Cuisine</th>\n",
       "      <th>TranslatedInstructions</th>\n",
       "      <th>URL</th>\n",
       "      <th>Cleaned-Ingredients</th>\n",
       "      <th>image-url</th>\n",
       "      <th>Ingredient-count</th>\n",
       "    </tr>\n",
       "  </thead>\n",
       "  <tbody>\n",
       "    <tr>\n",
       "      <th>0</th>\n",
       "      <td>Masala Karela Recipe</td>\n",
       "      <td>1 tablespoon Red Chilli powder,3 tablespoon Gr...</td>\n",
       "      <td>45</td>\n",
       "      <td>Indian</td>\n",
       "      <td>To begin making the Masala Karela Recipe,de-se...</td>\n",
       "      <td>https://www.archanaskitchen.com/masala-karela-...</td>\n",
       "      <td>salt,amchur (dry mango powder),karela (bitter ...</td>\n",
       "      <td>https://www.archanaskitchen.com/images/archana...</td>\n",
       "      <td>10</td>\n",
       "    </tr>\n",
       "    <tr>\n",
       "      <th>1</th>\n",
       "      <td>Spicy Tomato Rice (Recipe)</td>\n",
       "      <td>2 teaspoon cashew - or peanuts, 1/2 Teaspoon ...</td>\n",
       "      <td>15</td>\n",
       "      <td>South Indian Recipes</td>\n",
       "      <td>To make tomato puliogere, first cut the tomato...</td>\n",
       "      <td>https://www.archanaskitchen.com/spicy-tomato-r...</td>\n",
       "      <td>tomato,salt,chickpea lentils,green chilli,rice...</td>\n",
       "      <td>https://www.archanaskitchen.com/images/archana...</td>\n",
       "      <td>12</td>\n",
       "    </tr>\n",
       "    <tr>\n",
       "      <th>2</th>\n",
       "      <td>Ragi Semiya Upma Recipe - Ragi Millet Vermicel...</td>\n",
       "      <td>1 Onion - sliced,1 teaspoon White Urad Dal (Sp...</td>\n",
       "      <td>50</td>\n",
       "      <td>South Indian Recipes</td>\n",
       "      <td>To begin making the Ragi Vermicelli Recipe, fi...</td>\n",
       "      <td>https://www.archanaskitchen.com/ragi-vermicell...</td>\n",
       "      <td>salt,rice vermicelli noodles (thin),asafoetida...</td>\n",
       "      <td>https://www.archanaskitchen.com/images/archana...</td>\n",
       "      <td>12</td>\n",
       "    </tr>\n",
       "    <tr>\n",
       "      <th>3</th>\n",
       "      <td>Gongura Chicken Curry Recipe - Andhra Style Go...</td>\n",
       "      <td>1/2 teaspoon Turmeric powder (Haldi),1 tablesp...</td>\n",
       "      <td>45</td>\n",
       "      <td>Andhra</td>\n",
       "      <td>To begin making Gongura Chicken Curry Recipe f...</td>\n",
       "      <td>https://www.archanaskitchen.com/gongura-chicke...</td>\n",
       "      <td>tomato,salt,ginger,sorrel leaves (gongura),fen...</td>\n",
       "      <td>https://www.archanaskitchen.com/images/archana...</td>\n",
       "      <td>15</td>\n",
       "    </tr>\n",
       "    <tr>\n",
       "      <th>4</th>\n",
       "      <td>Andhra Style Alam Pachadi Recipe - Adrak Chutn...</td>\n",
       "      <td>oil - as per use, 1 tablespoon coriander seed...</td>\n",
       "      <td>30</td>\n",
       "      <td>Andhra</td>\n",
       "      <td>To make Andhra Style Alam Pachadi, first heat ...</td>\n",
       "      <td>https://www.archanaskitchen.com/andhra-style-a...</td>\n",
       "      <td>tomato,salt,ginger,red chillies,curry,asafoeti...</td>\n",
       "      <td>https://www.archanaskitchen.com/images/archana...</td>\n",
       "      <td>12</td>\n",
       "    </tr>\n",
       "  </tbody>\n",
       "</table>\n",
       "</div>"
      ],
      "text/plain": [
       "                                TranslatedRecipeName  \\\n",
       "0                               Masala Karela Recipe   \n",
       "1                         Spicy Tomato Rice (Recipe)   \n",
       "2  Ragi Semiya Upma Recipe - Ragi Millet Vermicel...   \n",
       "3  Gongura Chicken Curry Recipe - Andhra Style Go...   \n",
       "4  Andhra Style Alam Pachadi Recipe - Adrak Chutn...   \n",
       "\n",
       "                               TranslatedIngredients  TotalTimeInMins  \\\n",
       "0  1 tablespoon Red Chilli powder,3 tablespoon Gr...               45   \n",
       "1   2 teaspoon cashew - or peanuts, 1/2 Teaspoon ...               15   \n",
       "2  1 Onion - sliced,1 teaspoon White Urad Dal (Sp...               50   \n",
       "3  1/2 teaspoon Turmeric powder (Haldi),1 tablesp...               45   \n",
       "4   oil - as per use, 1 tablespoon coriander seed...               30   \n",
       "\n",
       "                Cuisine                             TranslatedInstructions  \\\n",
       "0                Indian  To begin making the Masala Karela Recipe,de-se...   \n",
       "1  South Indian Recipes  To make tomato puliogere, first cut the tomato...   \n",
       "2  South Indian Recipes  To begin making the Ragi Vermicelli Recipe, fi...   \n",
       "3                Andhra  To begin making Gongura Chicken Curry Recipe f...   \n",
       "4                Andhra  To make Andhra Style Alam Pachadi, first heat ...   \n",
       "\n",
       "                                                 URL  \\\n",
       "0  https://www.archanaskitchen.com/masala-karela-...   \n",
       "1  https://www.archanaskitchen.com/spicy-tomato-r...   \n",
       "2  https://www.archanaskitchen.com/ragi-vermicell...   \n",
       "3  https://www.archanaskitchen.com/gongura-chicke...   \n",
       "4  https://www.archanaskitchen.com/andhra-style-a...   \n",
       "\n",
       "                                 Cleaned-Ingredients  \\\n",
       "0  salt,amchur (dry mango powder),karela (bitter ...   \n",
       "1  tomato,salt,chickpea lentils,green chilli,rice...   \n",
       "2  salt,rice vermicelli noodles (thin),asafoetida...   \n",
       "3  tomato,salt,ginger,sorrel leaves (gongura),fen...   \n",
       "4  tomato,salt,ginger,red chillies,curry,asafoeti...   \n",
       "\n",
       "                                           image-url  Ingredient-count  \n",
       "0  https://www.archanaskitchen.com/images/archana...                10  \n",
       "1  https://www.archanaskitchen.com/images/archana...                12  \n",
       "2  https://www.archanaskitchen.com/images/archana...                12  \n",
       "3  https://www.archanaskitchen.com/images/archana...                15  \n",
       "4  https://www.archanaskitchen.com/images/archana...                12  "
      ]
     },
     "execution_count": 3,
     "metadata": {},
     "output_type": "execute_result"
    }
   ],
   "source": [
    "df = pd.read_csv(\"Cleaned_Indian_Food_Dataset.csv\")\n",
    "print(df.shape)\n",
    "df.head(5)"
   ]
  },
  {
   "cell_type": "code",
   "execution_count": 4,
   "id": "97d81c86",
   "metadata": {},
   "outputs": [
    {
     "data": {
      "text/plain": [
       "'To begin making the Masala Karela Recipe,de-seed the karela and slice.\\nDo not remove the skin as the skin has all the nutrients.\\nAdd the karela to the pressure cooker with 3 tablespoon of water, salt and turmeric powder and pressure cook for three whistles.\\nRelease the pressure immediately and open the lids.\\nKeep aside.Heat oil in a heavy bottomed pan or a kadhai.\\nAdd cumin seeds and let it sizzle.Once the cumin seeds have sizzled, add onions and saute them till it turns golden brown in color.Add the karela, red chilli powder, amchur powder, coriander powder and besan.\\nStir to combine the masalas into the karela.Drizzle a little extra oil on the top and mix again.\\nCover the pan and simmer Masala Karela stirring occasionally until everything comes together well.\\nTurn off the heat.Transfer Masala Karela into a serving bowl and serve.Serve Masala Karela along with Panchmel Dal and Phulka for a weekday meal with your family.\\n'"
      ]
     },
     "execution_count": 4,
     "metadata": {},
     "output_type": "execute_result"
    }
   ],
   "source": [
    "df.TranslatedInstructions[0]"
   ]
  },
  {
   "cell_type": "code",
   "execution_count": null,
   "id": "e915f872",
   "metadata": {},
   "outputs": [],
   "source": []
  }
 ],
 "metadata": {
  "kernelspec": {
   "display_name": "Python 3 (ipykernel)",
   "language": "python",
   "name": "python3"
  },
  "language_info": {
   "codemirror_mode": {
    "name": "ipython",
    "version": 3
   },
   "file_extension": ".py",
   "mimetype": "text/x-python",
   "name": "python",
   "nbconvert_exporter": "python",
   "pygments_lexer": "ipython3",
   "version": "3.11.5"
  }
 },
 "nbformat": 4,
 "nbformat_minor": 5
}
