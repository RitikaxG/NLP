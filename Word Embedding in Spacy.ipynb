{
 "cells": [
  {
   "cell_type": "code",
   "execution_count": null,
   "id": "0b094115",
   "metadata": {},
   "outputs": [],
   "source": []
  },
  {
   "cell_type": "markdown",
   "id": "368414a0",
   "metadata": {},
   "source": [
    "###### Word Embedding\n",
    "1. Similar words will have similar vectors\n",
    "2. Dimensions are low\n",
    "###### Word Embedding Techniques\n",
    "* Based On CBOW(Continuous Bag of Words) , Skip Gram\n",
    " 1. Word2Vec :\n",
    "    - Dataset : (word2vec-google-news-300) (word2vec-ruscorpora-300)\n",
    "Uses:\n",
    "    - Convert a word into vector sentence so that it can capture the meaning of word properly.\n",
    "    - Word arithmetic\n",
    "\n",
    "2. GloVe (glove-wiki-gigaword-100) (glove-twitter-50)\n",
    "3. fastText\n",
    "* Based on transformer architecture \n",
    "1. BERT (Google Search) - \n",
    "    - Dataset or corpus in which they are trained(Bio Bert/Fin Bert)\n",
    "    - Parameter Tuning (Albert/ RoBERTa)\n",
    "2. GPT\n",
    "* Based on LSTM\n",
    "1. ELMo\n",
    "\n",
    "Word / Sentence/ Doc Embedding"
   ]
  },
  {
   "cell_type": "code",
   "execution_count": 2,
   "id": "081b6faf",
   "metadata": {},
   "outputs": [],
   "source": [
    "import spacy\n",
    "nlp = spacy.load(\"en_core_web_lg\")"
   ]
  },
  {
   "cell_type": "code",
   "execution_count": 6,
   "id": "46ab7640",
   "metadata": {},
   "outputs": [
    {
     "name": "stdout",
     "output_type": "stream",
     "text": [
      "dog || Vector: True || OOV: False\n",
      "cat || Vector: True || OOV: False\n",
      "banana || Vector: True || OOV: False\n",
      "suzumi || Vector: False || OOV: True\n"
     ]
    }
   ],
   "source": [
    "doc = nlp(\"dog cat banana suzumi\")\n",
    "for token in doc:\n",
    "    print(token.text,\"||\", \"Vector:\",token.has_vector,\"||\",\"OOV:\",token.is_oov)"
   ]
  },
  {
   "cell_type": "code",
   "execution_count": 8,
   "id": "c1d664c9",
   "metadata": {},
   "outputs": [
    {
     "data": {
      "text/plain": [
       "(300,)"
      ]
     },
     "execution_count": 8,
     "metadata": {},
     "output_type": "execute_result"
    }
   ],
   "source": [
    "#300 dimension vector\n",
    "doc[0].vector.shape"
   ]
  },
  {
   "cell_type": "code",
   "execution_count": 9,
   "id": "5d564e61",
   "metadata": {},
   "outputs": [
    {
     "data": {
      "text/plain": [
       "(300,)"
      ]
     },
     "execution_count": 9,
     "metadata": {},
     "output_type": "execute_result"
    }
   ],
   "source": [
    "base_token = nlp(\"bread\")\n",
    "base_token[0].vector.shape"
   ]
  },
  {
   "cell_type": "code",
   "execution_count": 11,
   "id": "a0fb2c3c",
   "metadata": {},
   "outputs": [
    {
     "name": "stdout",
     "output_type": "stream",
     "text": [
      "sandwich <-> bread 0.6341067417450952\n",
      "burger <-> bread 0.47520687769584247\n",
      "cat <-> bread 0.1255933851043781\n",
      "tiger <-> bread 0.04764612079317772\n",
      "human <-> bread 0.2151154210812192\n",
      "wheat <-> bread 0.615036141030184\n",
      "bread <-> bread 1.0000000681995158\n"
     ]
    }
   ],
   "source": [
    "doc = nlp(\"sandwich burger cat tiger human wheat bread\")\n",
    "#Check similarity between these objects and bread\n",
    "for token in doc:\n",
    "    print(f\"{token.text} <-> {base_token.text}\",token.similarity(base_token))"
   ]
  },
  {
   "cell_type": "code",
   "execution_count": 14,
   "id": "5742319e",
   "metadata": {},
   "outputs": [],
   "source": [
    "def print_similarity(base_word, words_to_compare):\n",
    "    base_token = nlp(base_word)\n",
    "    doc = nlp(words_to_compare)\n",
    "    for token in doc:\n",
    "         print(f\"{token.text} <-> {base_token.text}\",token.similarity(base_token))"
   ]
  },
  {
   "cell_type": "code",
   "execution_count": 15,
   "id": "fdd72c99",
   "metadata": {},
   "outputs": [
    {
     "name": "stdout",
     "output_type": "stream",
     "text": [
      "apple <-> iphone 0.4387907401919904\n",
      "samsung <-> iphone 0.6708590303423401\n",
      "iphone <-> iphone 0.9999999983096304\n",
      "dog <-> iphone 0.08211864726684225\n",
      "kitten <-> iphone 0.10222319084362265\n"
     ]
    }
   ],
   "source": [
    "print_similarity(\"iphone\",\"apple samsung iphone dog kitten\")"
   ]
  },
  {
   "cell_type": "code",
   "execution_count": 16,
   "id": "31a54f75",
   "metadata": {},
   "outputs": [],
   "source": [
    "king = nlp.vocab[\"king\"].vector\n",
    "man = nlp.vocab[\"man\"].vector\n",
    "woman = nlp.vocab[\"woman\"].vector\n",
    "queen = nlp.vocab[\"queen\"].vector\n",
    "\n",
    "result = king - man + woman"
   ]
  },
  {
   "cell_type": "code",
   "execution_count": 17,
   "id": "ab25ca9c",
   "metadata": {},
   "outputs": [
    {
     "data": {
      "text/plain": [
       "array([[0.6178014]], dtype=float32)"
      ]
     },
     "execution_count": 17,
     "metadata": {},
     "output_type": "execute_result"
    }
   ],
   "source": [
    "from sklearn.metrics.pairwise import cosine_similarity\n",
    "\n",
    "cosine_similarity([result],[queen])"
   ]
  },
  {
   "cell_type": "code",
   "execution_count": null,
   "id": "b17b32d2",
   "metadata": {},
   "outputs": [],
   "source": []
  }
 ],
 "metadata": {
  "kernelspec": {
   "display_name": "Python 3 (ipykernel)",
   "language": "python",
   "name": "python3"
  },
  "language_info": {
   "codemirror_mode": {
    "name": "ipython",
    "version": 3
   },
   "file_extension": ".py",
   "mimetype": "text/x-python",
   "name": "python",
   "nbconvert_exporter": "python",
   "pygments_lexer": "ipython3",
   "version": "3.11.5"
  }
 },
 "nbformat": 4,
 "nbformat_minor": 5
}
