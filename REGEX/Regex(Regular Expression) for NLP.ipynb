{
 "cells": [
  {
   "cell_type": "markdown",
   "id": "54b11025-d056-4ad2-bb6f-32d0e4362709",
   "metadata": {},
   "source": [
    "https://regex101.com/"
   ]
  },
  {
   "cell_type": "markdown",
   "id": "25e8ccf3-b8f3-46f6-bd6c-d6b0e49fd728",
   "metadata": {},
   "source": [
    "#### Pattern Matching"
   ]
  },
  {
   "cell_type": "code",
   "execution_count": 2,
   "id": "f76a1e17-d300-427e-ba33-59b3408e7f61",
   "metadata": {},
   "outputs": [],
   "source": [
    "#Allows to do Pattern Matching\n",
    "import re"
   ]
  },
  {
   "cell_type": "code",
   "execution_count": 16,
   "id": "7dce6b09-381e-4d97-8f65-3e23363604ca",
   "metadata": {},
   "outputs": [],
   "source": [
    "chat1 = 'Ritika: you ask lot of questions 😖 1235678912,abc@xyz.com'\n",
    "chat2 = 'Ritika: here it is: (123)-567-8912, abc@xyz.com' \n",
    "chat3 = 'Ritika: yes,phone: 1235678912, email: abc@xyz.com' \n"
   ]
  },
  {
   "cell_type": "code",
   "execution_count": 18,
   "id": "6fcc9e1f-11fa-49c9-b045-44b699ad641a",
   "metadata": {},
   "outputs": [],
   "source": [
    "chat4 = 'Ritika: Hello, I am having an issue with my order # 412889912'\n",
    "chat5 = 'Ritika: I have a problem with my order number 412889912'\n",
    "chat6 = 'Ritika: My order 412889912 is having an issue, I was charged $300 when online it says $280'"
   ]
  },
  {
   "cell_type": "code",
   "execution_count": 24,
   "id": "b1755956-b453-4153-b12e-32eed4344a50",
   "metadata": {},
   "outputs": [
    {
     "name": "stdout",
     "output_type": "stream",
     "text": [
      "['1235678912']\n",
      "['(123)-567-8912']\n",
      "['1235678912']\n"
     ]
    },
    {
     "data": {
      "text/plain": [
       "'412889912'"
      ]
     },
     "execution_count": 24,
     "metadata": {},
     "output_type": "execute_result"
    }
   ],
   "source": [
    "pattern0 = '\\d{10}'\n",
    "matches = re.findall(pattern0,chat1)\n",
    "print(matches)\n",
    "\n",
    "# '\\': used to do a literal match\n",
    "pattern1 = '\\(\\d{3}\\)-\\d{3}-\\d{4}'\n",
    "matches = re.findall(pattern1,chat2)\n",
    "print(matches)\n",
    "\n",
    "pattern2 = '\\d{10}|\\(\\d{3}\\)-\\d{3}-\\d{4}'\n",
    "matches = re.findall(pattern2,chat3)\n",
    "print(matches)\n",
    "\n",
    "pattern3 = '[a-z0-9A-Z_]*@[a-z0-9A-Z_]*\\.[a-zA-Z]*'\n",
    "matches = re.findall(pattern3,chat1)\n",
    "email = matches[0]\n",
    "email\n",
    "\n",
    "pattern4 = \"order[^\\d]*(\\d*)\"\n",
    "matches = re.findall(pattern4,chat4)\n",
    "order = matches[0]\n",
    "order"
   ]
  },
  {
   "cell_type": "markdown",
   "id": "f2112e8d-c487-44b4-866e-d697791d1fbb",
   "metadata": {},
   "source": [
    "#### Imformation Extraction"
   ]
  },
  {
   "cell_type": "code",
   "execution_count": 25,
   "id": "128c845d-3943-4e61-9c51-090d5f701851",
   "metadata": {},
   "outputs": [],
   "source": [
    "text = \"\"\"\n",
    "Born\tRatan Naval Tata\n",
    "28 December 1937 (age 85)\n",
    "Bombay, Bombay Presidency, British India\n",
    "Alma mater\tCornell University (BArch)\n",
    "Occupation(s)\tIndustrialist, Philanthropist\n",
    "Title\tChairman Emeritus, Tata Sons and Tata Group[1]\n",
    "Term\t\n",
    "1991–2012\n",
    "2016–2017\n",
    "Predecessor\tJ. R. D. Tata\n",
    "Successor\t\n",
    "Cyrus Mistry (2012–2016)\n",
    "Natarajan Chandrasekaran (2017–present)\n",
    "Parent\tNaval Tata\n",
    "Relatives\tTata family\n",
    "Awards\t\n",
    "Order of Australia (2023)\n",
    "Assam Baibhav (2021)\n",
    "Honorary Knight Grand Cross of the Order of the British Empire (2014)\n",
    "Padma Vibhushan (2008)\n",
    "Maharashtra Bhushan (2006)\n",
    "Padma Bhushan (2000)\n",
    "\"\"\""
   ]
  },
  {
   "cell_type": "code",
   "execution_count": 49,
   "id": "34722e09-8c01-4549-bc68-ebb455233612",
   "metadata": {},
   "outputs": [],
   "source": [
    "text2 = \"\"\"\n",
    "Born\tA. P. J. Abdul Kalam\n",
    "15 October 1931 (age 83)\n",
    "Rameswaram, Madras Presidency, British India (modern–day Tamil Nadu, India)\n",
    "Died\t27 July 2015 (aged 83)\n",
    "Shillong, Meghalaya, India\n",
    "Resting place\tDr. A. P. J. Abdul Kalam Desiya Ninaivagam, Pei Karumbu, Rameswaram, Tamil Nadu, India\n",
    "Political party\tIndependent[fn 1]\n",
    "Alma mater\t\n",
    "St. Joseph's College, Tiruchirappalli (BEng)\n",
    "Madras Institute of Technology (MEng)\n",
    "Profession\t\n",
    "Aerospace ScientistAuthor\n",
    "Awards\tFull list\n",
    "Notable work(s)\t\n",
    "Wings of Fire\n",
    "India 2020\n",
    "Ignited Minds\n",
    "Indomitable Spirit\n",
    "Transcendence: My Spiritual Experiences with Pramukh Swamiji\n",
    "Signature\t\n",
    "Website\tOfficial Website\n",
    "Scientific career\n",
    "Fields\tAerospace engineering\n",
    "Institutions\t\n",
    "Defence Research and Development Organisation\n",
    "Indian Space Research Organisation\n",
    "\"\"\""
   ]
  },
  {
   "cell_type": "code",
   "execution_count": 50,
   "id": "91c35576-f6a5-431f-8cf7-5eb09f7a69cf",
   "metadata": {},
   "outputs": [
    {
     "data": {
      "text/plain": [
       "['85']"
      ]
     },
     "execution_count": 50,
     "metadata": {},
     "output_type": "execute_result"
    }
   ],
   "source": [
    "pattern = 'age (\\d+)'\n",
    "matches = re.findall(pattern,text)\n",
    "matches"
   ]
  },
  {
   "cell_type": "code",
   "execution_count": 51,
   "id": "eaa4b8e8-dc54-4395-aa60-7a4655bb2506",
   "metadata": {},
   "outputs": [
    {
     "data": {
      "text/plain": [
       "'Ratan Naval Tata'"
      ]
     },
     "execution_count": 51,
     "metadata": {},
     "output_type": "execute_result"
    }
   ],
   "source": [
    "pattern = 'Born(.*)\\n'\n",
    "matches = re.findall(pattern,text)\n",
    "matches[0].strip()"
   ]
  },
  {
   "cell_type": "code",
   "execution_count": 52,
   "id": "7bee7e11-9a10-40f7-b703-9e982c606227",
   "metadata": {},
   "outputs": [
    {
     "data": {
      "text/plain": [
       "'28 December 1937'"
      ]
     },
     "execution_count": 52,
     "metadata": {},
     "output_type": "execute_result"
    }
   ],
   "source": [
    "pattern = \"Born.*\\n(.*)\\(age\"\n",
    "matches = re.findall(pattern,text)\n",
    "matches[0].strip()"
   ]
  },
  {
   "cell_type": "code",
   "execution_count": 53,
   "id": "d5bdc2cf-14b2-42c6-b12b-a80f722d0ba8",
   "metadata": {},
   "outputs": [
    {
     "data": {
      "text/plain": [
       "'Bombay, Bombay Presidency, British India'"
      ]
     },
     "execution_count": 53,
     "metadata": {},
     "output_type": "execute_result"
    }
   ],
   "source": [
    "pattern = \"\\(age.*\\n(.*)\\n\"\n",
    "matches = re.findall(pattern,text)\n",
    "matches[0].strip()"
   ]
  },
  {
   "cell_type": "code",
   "execution_count": 54,
   "id": "24fd2bec-0447-4cd0-9c9a-ad4163bced19",
   "metadata": {},
   "outputs": [],
   "source": [
    "def get_pattern_match(pattern,text):\n",
    "    matches = re.findall(pattern, text)\n",
    "    if matches:\n",
    "        return matches[0]"
   ]
  },
  {
   "cell_type": "code",
   "execution_count": 55,
   "id": "fd924892-1cea-4444-b041-baf2d1b421d6",
   "metadata": {},
   "outputs": [
    {
     "data": {
      "text/plain": [
       "'Bombay, Bombay Presidency, British India'"
      ]
     },
     "execution_count": 55,
     "metadata": {},
     "output_type": "execute_result"
    }
   ],
   "source": [
    "get_pattern_match(\"\\(age.*\\n(.*)\\n\",text)"
   ]
  },
  {
   "cell_type": "code",
   "execution_count": 56,
   "id": "e68c98da-2fcd-48b8-acbd-477740a17a19",
   "metadata": {},
   "outputs": [],
   "source": [
    "def get_personal_information(text):\n",
    "    age = get_pattern_match('age (\\d+)',text)\n",
    "    full_name = get_pattern_match('Born(.*)\\n',text)\n",
    "    birth_date = get_pattern_match(\"Born.*\\n(.*)\\(age\",text)\n",
    "    birth_place = get_pattern_match(\"\\(age.*\\n(.*)\\n\",text)\n",
    "\n",
    "    return {\n",
    "        'age': int(age),\n",
    "        'name': full_name.strip(),\n",
    "        'birth_date': birth_date.strip(),\n",
    "        'birth_place': birth_place.strip()\n",
    "    }"
   ]
  },
  {
   "cell_type": "code",
   "execution_count": 57,
   "id": "c72a9662-4ccc-4e32-8ac8-b2ec8d042402",
   "metadata": {},
   "outputs": [
    {
     "data": {
      "text/plain": [
       "{'age': 85,\n",
       " 'name': 'Ratan Naval Tata',\n",
       " 'birth_date': '28 December 1937',\n",
       " 'birth_place': 'Bombay, Bombay Presidency, British India'}"
      ]
     },
     "execution_count": 57,
     "metadata": {},
     "output_type": "execute_result"
    }
   ],
   "source": [
    "get_personal_information(text)"
   ]
  },
  {
   "cell_type": "code",
   "execution_count": 58,
   "id": "c31b12f7-3bb8-4737-9b90-92fb242b93e7",
   "metadata": {},
   "outputs": [
    {
     "data": {
      "text/plain": [
       "{'age': 83,\n",
       " 'name': 'A. P. J. Abdul Kalam',\n",
       " 'birth_date': '15 October 1931',\n",
       " 'birth_place': 'Rameswaram, Madras Presidency, British India (modern–day Tamil Nadu, India)'}"
      ]
     },
     "execution_count": 58,
     "metadata": {},
     "output_type": "execute_result"
    }
   ],
   "source": [
    "get_personal_information(text2)"
   ]
  },
  {
   "cell_type": "code",
   "execution_count": null,
   "id": "4c0a3c93-5790-4629-82ba-b44006ee22f1",
   "metadata": {},
   "outputs": [],
   "source": []
  }
 ],
 "metadata": {
  "kernelspec": {
   "display_name": "Python 3 (ipykernel)",
   "language": "python",
   "name": "python3"
  },
  "language_info": {
   "codemirror_mode": {
    "name": "ipython",
    "version": 3
   },
   "file_extension": ".py",
   "mimetype": "text/x-python",
   "name": "python",
   "nbconvert_exporter": "python",
   "pygments_lexer": "ipython3",
   "version": "3.11.4"
  }
 },
 "nbformat": 4,
 "nbformat_minor": 5
}
