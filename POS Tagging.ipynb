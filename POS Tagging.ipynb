{
 "cells": [
  {
   "cell_type": "code",
   "execution_count": 1,
   "id": "a6e3edd2",
   "metadata": {},
   "outputs": [],
   "source": [
    "import spacy"
   ]
  },
  {
   "cell_type": "code",
   "execution_count": 2,
   "id": "4bcd5e9a",
   "metadata": {},
   "outputs": [],
   "source": [
    "nlp = spacy.load(\"en_core_web_sm\")"
   ]
  },
  {
   "cell_type": "code",
   "execution_count": 5,
   "id": "176ab192",
   "metadata": {},
   "outputs": [
    {
     "data": {
      "text/plain": [
       "['tok2vec', 'tagger', 'parser', 'attribute_ruler', 'lemmatizer', 'ner']"
      ]
     },
     "execution_count": 5,
     "metadata": {},
     "output_type": "execute_result"
    }
   ],
   "source": [
    "nlp.pipe_names"
   ]
  },
  {
   "cell_type": "code",
   "execution_count": 10,
   "id": "811d2cb4",
   "metadata": {},
   "outputs": [
    {
     "name": "stdout",
     "output_type": "stream",
     "text": [
      "I  |  PRON  |  pronoun\n",
      "watched  |  VERB  |  verb\n",
      "rain  |  NOUN  |  noun\n",
      "yesterday  |  NOUN  |  noun\n",
      ",  |  PUNCT  |  punctuation\n",
      "I  |  PRON  |  pronoun\n",
      "had  |  VERB  |  verb\n",
      "tea  |  NOUN  |  noun\n",
      "and  |  CCONJ  |  coordinating conjunction\n",
      "ice  |  NOUN  |  noun\n",
      "-  |  PUNCT  |  punctuation\n",
      "cream  |  NOUN  |  noun\n",
      ".  |  PUNCT  |  punctuation\n"
     ]
    }
   ],
   "source": [
    "doc = nlp(\"I watched rain yesterday, I had tea and ice-cream.\")\n",
    "for token in doc:\n",
    "    print(token,\" | \",token.pos_, \" | \",spacy.explain(token.pos_))"
   ]
  },
  {
   "cell_type": "code",
   "execution_count": 9,
   "id": "07aa2bfe",
   "metadata": {},
   "outputs": [
    {
     "name": "stdout",
     "output_type": "stream",
     "text": [
      "Wow  |  INTJ  |  interjection  |  UH  |  interjection\n",
      "!  |  PUNCT  |  punctuation  |  .  |  punctuation mark, sentence closer\n",
      "I  |  PRON  |  pronoun  |  PRP  |  pronoun, personal\n",
      "won  |  VERB  |  verb  |  VBD  |  verb, past tense\n",
      "50  |  NUM  |  numeral  |  CD  |  cardinal number\n",
      "million  |  NUM  |  numeral  |  CD  |  cardinal number\n",
      "$  |  SYM  |  symbol  |  $  |  symbol, currency\n",
      "in  |  ADP  |  adposition  |  IN  |  conjunction, subordinating or preposition\n",
      "a  |  DET  |  determiner  |  DT  |  determiner\n",
      "baking  |  NOUN  |  noun  |  NN  |  noun, singular or mass\n",
      "show  |  NOUN  |  noun  |  NN  |  noun, singular or mass\n",
      ".  |  PUNCT  |  punctuation  |  .  |  punctuation mark, sentence closer\n"
     ]
    }
   ],
   "source": [
    "doc = nlp(\"Wow! I won 50 million $ in a baking show.\")\n",
    "for token in doc:\n",
    "    #token.tag_ : gives further categorization\n",
    "    print(token,\" | \",token.pos_, \" | \",spacy.explain(token.pos_), \" | \",token.tag_, \" | \",spacy.explain(token.tag_))"
   ]
  },
  {
   "cell_type": "code",
   "execution_count": 13,
   "id": "722fc72f",
   "metadata": {},
   "outputs": [
    {
     "name": "stdout",
     "output_type": "stream",
     "text": [
      "quits  |  VBZ  |  verb, 3rd person singular present\n"
     ]
    }
   ],
   "source": [
    "doc = nlp(\"He quits the job.\")\n",
    "doc[1]\n",
    "print(doc[1].text, \" | \", doc[1].tag_,\" | \",spacy.explain(doc[1].tag_))"
   ]
  },
  {
   "cell_type": "code",
   "execution_count": 16,
   "id": "ca6cafc3",
   "metadata": {},
   "outputs": [
    {
     "name": "stdout",
     "output_type": "stream",
     "text": [
      "quit  |  VBD  |  verb, past tense\n"
     ]
    }
   ],
   "source": [
    "doc = nlp(\"I quit the job.\")\n",
    "doc[1]\n",
    "print(doc[1].text, \" | \", doc[1].tag_,\" | \",spacy.explain(doc[1].tag_))"
   ]
  },
  {
   "cell_type": "code",
   "execution_count": 17,
   "id": "2c4589ee",
   "metadata": {},
   "outputs": [],
   "source": [
    "earning_text = \"\"\"\n",
    "REDMOND, Wash. — July 25, 2023 — Microsoft Corp. today announced the following results for the quarter ended June 30, 2023, as compared to the corresponding period of last fiscal year:\n",
    "\n",
    "·        Revenue was $56.2 billion and increased 8% (up 10% in constant currency)\n",
    "\n",
    "·        Operating income was $24.3 billion and increased 18% (up 21% in constant currency)\n",
    "\n",
    "·        Net income was $20.1 billion and increased 20% (up 23% in constant currency)\n",
    "\n",
    "·        Diluted earnings per share was $2.69 and increased 21% (up 23% in constant currency),etc.\"\"\""
   ]
  },
  {
   "cell_type": "code",
   "execution_count": 20,
   "id": "71d1a188",
   "metadata": {},
   "outputs": [],
   "source": [
    "doc = nlp(earning_text)"
   ]
  },
  {
   "cell_type": "code",
   "execution_count": 24,
   "id": "20a31710",
   "metadata": {},
   "outputs": [],
   "source": [
    "#Remove punctuation marks and extra characters\n",
    "filtered_tokens = []\n",
    "for token in doc:\n",
    "    if token.pos_ not in [\"SPACE\",\"X\",\"PUNCT\"]:\n",
    "        filtered_tokens.append(token)\n",
    "        #print(token,\" | \",token.pos_, \" | \",spacy.explain(token.pos_), \" | \",token.tag_, \" | \",spacy.explain(token.tag_))"
   ]
  },
  {
   "cell_type": "code",
   "execution_count": 25,
   "id": "307298df",
   "metadata": {},
   "outputs": [
    {
     "data": {
      "text/plain": [
       "[REDMOND,\n",
       " Wash.,\n",
       " July,\n",
       " 25,\n",
       " 2023,\n",
       " Microsoft,\n",
       " Corp.,\n",
       " today,\n",
       " announced,\n",
       " the,\n",
       " following,\n",
       " results,\n",
       " for,\n",
       " the,\n",
       " quarter,\n",
       " ended,\n",
       " June,\n",
       " 30,\n",
       " 2023,\n",
       " as]"
      ]
     },
     "execution_count": 25,
     "metadata": {},
     "output_type": "execute_result"
    }
   ],
   "source": [
    "filtered_tokens[:20]"
   ]
  },
  {
   "cell_type": "code",
   "execution_count": 34,
   "id": "b1dc0533",
   "metadata": {},
   "outputs": [],
   "source": [
    "#Spacy provides a convenient API called count_by()\n",
    "count = doc.count_by(spacy.attrs.POS)"
   ]
  },
  {
   "cell_type": "code",
   "execution_count": 35,
   "id": "1ac91653",
   "metadata": {},
   "outputs": [
    {
     "name": "stdout",
     "output_type": "stream",
     "text": [
      "SPACE  |  9\n",
      "PROPN  |  6\n",
      "PUNCT  |  19\n",
      "NUM  |  19\n",
      "NOUN  |  22\n",
      "VERB  |  10\n",
      "DET  |  3\n",
      "ADP  |  8\n",
      "SCONJ  |  1\n",
      "ADJ  |  8\n",
      "AUX  |  4\n",
      "SYM  |  4\n",
      "CCONJ  |  4\n",
      "ADV  |  4\n"
     ]
    }
   ],
   "source": [
    "for k,v in count.items():\n",
    "    print(doc.vocab[k].text, \" | \",v)"
   ]
  },
  {
   "cell_type": "code",
   "execution_count": null,
   "id": "ea3ed74b",
   "metadata": {},
   "outputs": [],
   "source": []
  }
 ],
 "metadata": {
  "kernelspec": {
   "display_name": "Python 3 (ipykernel)",
   "language": "python",
   "name": "python3"
  },
  "language_info": {
   "codemirror_mode": {
    "name": "ipython",
    "version": 3
   },
   "file_extension": ".py",
   "mimetype": "text/x-python",
   "name": "python",
   "nbconvert_exporter": "python",
   "pygments_lexer": "ipython3",
   "version": "3.11.4"
  }
 },
 "nbformat": 4,
 "nbformat_minor": 5
}
